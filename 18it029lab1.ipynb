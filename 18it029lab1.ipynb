{
  "nbformat": 4,
  "nbformat_minor": 0,
  "metadata": {
    "colab": {
      "name": "18it029lab1.ipynb",
      "provenance": [],
      "authorship_tag": "ABX9TyOVJl+gQ9o2TrzaV4Oo3xFV",
      "include_colab_link": true
    },
    "kernelspec": {
      "name": "python3",
      "display_name": "Python 3"
    }
  },
  "cells": [
    {
      "cell_type": "markdown",
      "metadata": {
        "id": "view-in-github",
        "colab_type": "text"
      },
      "source": [
        "<a href=\"https://colab.research.google.com/github/AtuL-Mishra-cyber/DMDWLAB1/blob/main/18it029lab1.ipynb\" target=\"_parent\"><img src=\"https://colab.research.google.com/assets/colab-badge.svg\" alt=\"Open In Colab\"/></a>"
      ]
    },
    {
      "cell_type": "code",
      "metadata": {
        "colab": {
          "base_uri": "https://localhost:8080/"
        },
        "id": "JE2mUe30zTR0",
        "outputId": "4fe98266-c139-4874-f024-4e9a0c84353b"
      },
      "source": [
        "from collections import Counter\n",
        "data=[float(i) for i in input().split()]\n",
        "n=len(data)\n",
        "mean=sum(data)/n\n",
        "print(\"Mean = \",mean)\n",
        "#calculation of median\n",
        "temp=data.copy()\n",
        "temp=sorted(temp)\n",
        "if n%2!=0:\n",
        "  print(\"Median = \",temp[n//2])\n",
        "else:\n",
        "  median=(temp[n//2]+temp[n//2+1])/2  \n",
        "  print(\"Median = \",median)\n",
        "#calculation of mode\n",
        "  cnt=Counter(data)\n",
        "  maxi=max(cnt.items(),key= lambda x:x[1])[1]\n",
        "  print(maxi)\n",
        "  mode=[]\n",
        "  for each in cnt.items():\n",
        "    if each[1]==maxi:\n",
        "      mode.append(each[0])\n",
        "      print(\"each[0] = \",each[0])\n",
        "    if len(mode)==n:\n",
        "      print(\"Not found\")\n",
        "    else:\n",
        "      print(\"Mode = \",mode)"
      ],
      "execution_count": 1,
      "outputs": [
        {
          "output_type": "stream",
          "text": [
            "23 24 25 26\n",
            "Mean =  24.5\n",
            "Median =  25.5\n",
            "1\n",
            "each[0] =  23.0\n",
            "Mode =  [23.0]\n",
            "each[0] =  24.0\n",
            "Mode =  [23.0, 24.0]\n",
            "each[0] =  25.0\n",
            "Mode =  [23.0, 24.0, 25.0]\n",
            "each[0] =  26.0\n",
            "Not found\n"
          ],
          "name": "stdout"
        }
      ]
    },
    {
      "cell_type": "code",
      "metadata": {
        "colab": {
          "base_uri": "https://localhost:8080/"
        },
        "id": "5lGKX1WKz0IM",
        "outputId": "693e72c9-d4bd-4bdb-bcda-d100004f339d"
      },
      "source": [
        "data=[float(i) for i in input().split()]\n",
        "n=len(data)\n",
        "mean=sum(data)/n\n",
        "sum1=0\n",
        "for e in data:\n",
        "  sum1+=(e-mean)**2\n",
        "variance=sum1/n\n",
        "print('Variance = ',variance)\n",
        "\n",
        "std=variance**(0.5)\n",
        "print(\"Standard Deviation = \",std)\n",
        "\n"
      ],
      "execution_count": 2,
      "outputs": [
        {
          "output_type": "stream",
          "text": [
            "23 24 25 26\n",
            "Variance =  1.25\n",
            "Standard Deviation =  1.118033988749895\n"
          ],
          "name": "stdout"
        }
      ]
    },
    {
      "cell_type": "code",
      "metadata": {
        "colab": {
          "base_uri": "https://localhost:8080/"
        },
        "id": "NPAp3aIW0WV5",
        "outputId": "58ca5d72-5c33-473e-885e-e7fa86c749e4"
      },
      "source": [
        "# 1.python program to check even or odd.\n",
        "num = int(input(\"Enter a number: \"))\n",
        "if (num % 2) == 0:\n",
        "   print(\"{0} is Even\".format(num))\n",
        "else:\n",
        "   print(\"{0} is Odd\".format(num))"
      ],
      "execution_count": 4,
      "outputs": [
        {
          "output_type": "stream",
          "text": [
            "Enter a number: 23\n",
            "23 is Odd\n"
          ],
          "name": "stdout"
        }
      ]
    },
    {
      "cell_type": "code",
      "metadata": {
        "colab": {
          "base_uri": "https://localhost:8080/"
        },
        "id": "HZw6FckB0gJJ",
        "outputId": "2373d89b-2d98-4ae2-9011-f0a2fbc8070b"
      },
      "source": [
        "num1 = int(input(\"Enter ist number: \"))\n",
        "num2 = int(input(\"Enter 2nd number: \"))\n",
        "num3 = int(input(\"Enter 3rd number: \"))\n",
        "\n",
        "if (num1 >= num2) and (num1 >= num3):\n",
        "   largest = num1\n",
        "elif (num2 >= num1) and (num2 >= num3):\n",
        "   largest = num2\n",
        "else:\n",
        "   largest = num3\n",
        "\n",
        "print(\"The largest number is\", largest)"
      ],
      "execution_count": 6,
      "outputs": [
        {
          "output_type": "stream",
          "text": [
            "Enter ist number: 23\n",
            "Enter 2nd number: 34\n",
            "Enter 3rd number: 56\n",
            "The largest number is 56\n"
          ],
          "name": "stdout"
        }
      ]
    },
    {
      "cell_type": "code",
      "metadata": {
        "id": "0YJQ1QGp0xxc"
      },
      "source": [
        "45"
      ],
      "execution_count": null,
      "outputs": []
    }
  ]
}